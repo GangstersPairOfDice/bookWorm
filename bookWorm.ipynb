{
 "cells": [
  {
   "cell_type": "code",
   "execution_count": 1,
   "metadata": {},
   "outputs": [],
   "source": [
    "# This project aims at finding new and innovative ways to read books.\n",
    "#\n",
    "# The main idea is to help reduce eye-stress from reading by creating a system\n",
    "# which allows a more natural flow for receiving information from text\n",
    "#\n",
    "# The first idea being developed is to make a sort of hilbert-curve from text,\n",
    "# so that one may continue reading without having to restart from a new line.\n",
    "#\n",
    "# Example pangram:\n",
    "#\n",
    "# The quick brown fox        is meant to be read   ->>>>>>>>>>>>V\n",
    "# dog lazy the over jumps                          V<<<<<<<<<<<<-\n",
    "#\n",
    "# Instead of the traditional:\n",
    "#\n",
    "# The quick brown fox        is meant to be read   ->>>>>>>>>>>>>>\n",
    "# jumps over the lazy dog                          ->>>>>>>>>>>>>>\n",
    "#\n",
    "# Therefore the text should be read like a space-filling curve, hence the name bookWorm."
   ]
  },
  {
   "cell_type": "code",
   "execution_count": 2,
   "metadata": {},
   "outputs": [],
   "source": [
    "def bookWorm(text, n):\n",
    "    \n",
    "    words = text.split() # Splits the string into individual words\n",
    "    \n",
    "    rows = [words[i:i+n] for i in range(0, len(words), n)]  # Divide the words into rows of length n\n",
    "    \n",
    "    for i, row in enumerate(rows):\n",
    "        if i % 2 == 0:\n",
    "            print(' '.join(row))  # Print the normal order of words for even-numbered rows\n",
    "        else:\n",
    "            print(' '.join(reversed(row)))  # Print the reversed order of words for odd-numbered rows\n"
   ]
  },
  {
   "cell_type": "code",
   "execution_count": 3,
   "metadata": {},
   "outputs": [
    {
     "name": "stdout",
     "output_type": "stream",
     "text": [
      "Astronomers were for a long time contented with proving, from\n",
      "the of size and order, motions, true the phenomena, the\n",
      "heavenly bodies; until at last a scientist, ·Isaac Newton·, came\n",
      "which by forces and laws the determined also and along\n",
      "the revolutions of the planets are governed and directed. Similar\n",
      "of parts other to regard with done been have things\n",
      "nature. And there is no reason to despair of equal\n",
      "of organisation and powers the into enquiries our in success\n",
      "the mind, if we carry them out as ably and\n",
      "is It work·. their did scientists other those ·as alertly\n",
      "probable that one operation and principle of the mind depends\n",
      "a under brought be turn in may which another; on\n",
      "still more general and universal one; and it will be\n",
      "researches these far how exactly determine to us for difficult\n",
      "can be carried - difficult before we have carefully tried,\n",
      "of attempts certain: is much This after. even difficult and\n",
      "this kind are made every day even by those who\n",
      "to is need greatest the and carelessly; most the philosophize\n",
      "embark on the project with thorough care and attention\n"
     ]
    }
   ],
   "source": [
    "bookWorm(\"Astronomers were for a long time contented with proving, from the phenomena, the true motions, order, and size of the heavenly bodies; until at last a scientist, ·Isaac Newton·, came along and also determined the laws and forces by which the revolutions of the planets are governed and directed. Similar things have been done with regard to other parts of nature. And there is no reason to despair of equal success in our enquiries into the powers and organisation of the mind, if we carry them out as ably and alertly ·as those other scientists did their work·. It is probable that one operation and principle of the mind depends on another; which may in turn be brought under a still more general and universal one; and it will be difficult for us to determine exactly how far these researches can be carried - difficult before we have carefully tried, and difficult even after. This much is certain: attempts of this kind are made every day even by those who philosophize the most carelessly; and the greatest need is to embark on the project with thorough care and attention\", 10)"
   ]
  }
 ],
 "metadata": {
  "kernelspec": {
   "display_name": "Python 3",
   "language": "python",
   "name": "python3"
  },
  "language_info": {
   "codemirror_mode": {
    "name": "ipython",
    "version": 3
   },
   "file_extension": ".py",
   "mimetype": "text/x-python",
   "name": "python",
   "nbconvert_exporter": "python",
   "pygments_lexer": "ipython3",
   "version": "3.8.2"
  }
 },
 "nbformat": 4,
 "nbformat_minor": 4
}
